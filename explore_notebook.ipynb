{
 "cells": [
  {
   "cell_type": "code",
   "execution_count": 1,
   "id": "1ac254eb",
   "metadata": {},
   "outputs": [],
   "source": [
    "import pandas as pd\n",
    "import numpy as np\n",
    "import matplotlib.pyplot as plt\n",
    "import seaborn as sns\n",
    "\n",
    "from prepare import wrangle_data"
   ]
  },
  {
   "cell_type": "code",
   "execution_count": 2,
   "id": "0d1b6ca4",
   "metadata": {},
   "outputs": [],
   "source": [
    "sale_df, rent_df = wrangle_data()"
   ]
  },
  {
   "cell_type": "code",
   "execution_count": 3,
   "id": "b2a37f43",
   "metadata": {},
   "outputs": [
    {
     "data": {
      "text/plain": [
       "((3571, 18), (724, 19))"
      ]
     },
     "execution_count": 3,
     "metadata": {},
     "output_type": "execute_result"
    }
   ],
   "source": [
    "sale_df.shape, rent_df.shape"
   ]
  },
  {
   "cell_type": "code",
   "execution_count": 4,
   "id": "be39da21",
   "metadata": {},
   "outputs": [],
   "source": [
    "target = 'newconstructionyn'"
   ]
  },
  {
   "cell_type": "code",
   "execution_count": 6,
   "id": "24ce4658",
   "metadata": {},
   "outputs": [
    {
     "data": {
      "text/plain": [
       "0.0    0.899171\n",
       "1.0    0.100829\n",
       "Name: newconstructionyn, dtype: float64"
      ]
     },
     "execution_count": 6,
     "metadata": {},
     "output_type": "execute_result"
    }
   ],
   "source": [
    "rent_df[target].value_counts(normalize=True)"
   ]
  },
  {
   "cell_type": "code",
   "execution_count": 7,
   "id": "d31995fa",
   "metadata": {},
   "outputs": [
    {
     "data": {
      "text/plain": [
       "0.0    0.771213\n",
       "1.0    0.228787\n",
       "Name: newconstructionyn, dtype: float64"
      ]
     },
     "execution_count": 7,
     "metadata": {},
     "output_type": "execute_result"
    }
   ],
   "source": [
    "sale_df[target].value_counts(normalize=True)"
   ]
  },
  {
   "cell_type": "code",
   "execution_count": null,
   "id": "b542a835",
   "metadata": {},
   "outputs": [],
   "source": []
  }
 ],
 "metadata": {
  "kernelspec": {
   "display_name": "Python 3 (ipykernel)",
   "language": "python",
   "name": "python3"
  },
  "language_info": {
   "codemirror_mode": {
    "name": "ipython",
    "version": 3
   },
   "file_extension": ".py",
   "mimetype": "text/x-python",
   "name": "python",
   "nbconvert_exporter": "python",
   "pygments_lexer": "ipython3",
   "version": "3.9.7"
  }
 },
 "nbformat": 4,
 "nbformat_minor": 5
}
