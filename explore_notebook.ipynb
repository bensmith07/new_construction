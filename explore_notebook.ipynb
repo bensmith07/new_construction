{
 "cells": [
  {
   "cell_type": "code",
   "execution_count": 1,
   "id": "1ac254eb",
   "metadata": {},
   "outputs": [],
   "source": [
    "import pandas as pd\n",
    "import numpy as np\n",
    "import matplotlib.pyplot as plt\n",
    "import seaborn as sns\n",
    "import warnings\n",
    "warnings.filterwarnings('ignore')\n",
    "\n",
    "from prepare import wrangle_data"
   ]
  },
  {
   "cell_type": "code",
   "execution_count": 2,
   "id": "0d1b6ca4",
   "metadata": {
    "scrolled": false
   },
   "outputs": [],
   "source": [
    "sale_df, rent_df = wrangle_data()"
   ]
  },
  {
   "cell_type": "code",
   "execution_count": 3,
   "id": "b2a37f43",
   "metadata": {},
   "outputs": [
    {
     "data": {
      "text/plain": [
       "((3571, 59), (724, 57))"
      ]
     },
     "execution_count": 3,
     "metadata": {},
     "output_type": "execute_result"
    }
   ],
   "source": [
    "sale_df.shape, rent_df.shape"
   ]
  },
  {
   "cell_type": "code",
   "execution_count": 10,
   "id": "4f9abd19",
   "metadata": {},
   "outputs": [
    {
     "name": "stdout",
     "output_type": "stream",
     "text": [
      "<class 'pandas.core.frame.DataFrame'>\n",
      "Int64Index: 3571 entries, 0 to 4779\n",
      "Data columns (total 59 columns):\n",
      " #   Column                                 Non-Null Count  Dtype         \n",
      "---  ------                                 --------------  -----         \n",
      " 0   address_id                             3571 non-null   object        \n",
      " 1   listingcontractdate                    3571 non-null   datetime64[ns]\n",
      " 2   originallistprice                      3571 non-null   float64       \n",
      " 3   propertytype                           3571 non-null   object        \n",
      " 4   propertysubtype                        3571 non-null   object        \n",
      " 5   lotsizearea                            3571 non-null   float64       \n",
      " 6   bedroomstotal                          3571 non-null   float64       \n",
      " 7   bathroomstotalinteger                  3571 non-null   float64       \n",
      " 8   bathroomsfull                          3571 non-null   float64       \n",
      " 9   bathroomshalf                          3571 non-null   float64       \n",
      " 10  livingarea                             3571 non-null   float64       \n",
      " 11  garageyn                               3571 non-null   bool          \n",
      " 12  yearbuilt                              3571 non-null   float64       \n",
      " 13  newconstructionyn                      3571 non-null   bool          \n",
      " 14  listing_quarter                        3571 non-null   int64         \n",
      " 15  listing_month                          3571 non-null   int64         \n",
      " 16  listing_dayofmonth                     3571 non-null   int64         \n",
      " 17  listing_dayofweek                      3571 non-null   object        \n",
      " 18  listed_on_weekend                      3571 non-null   bool          \n",
      " 19  originallistprice_persqft              3571 non-null   float64       \n",
      " 20  garage_size                            3571 non-null   int64         \n",
      " 21  parkingfeatures_attached               3571 non-null   bool          \n",
      " 22  parkingfeatures_detached               3571 non-null   bool          \n",
      " 23  parkingfeatures_oversized              3571 non-null   bool          \n",
      " 24  parkingfeatures_converted              3571 non-null   bool          \n",
      " 25  parkingfeatures_sideentry              3571 non-null   bool          \n",
      " 26  parkingfeatures_rearentry              3571 non-null   bool          \n",
      " 27  parkingfeatures_tandem                 3571 non-null   bool          \n",
      " 28  parkingfeatures_golfcart               3571 non-null   bool          \n",
      " 29  heating_central                        3571 non-null   bool          \n",
      " 30  heating_naturalgas                     3571 non-null   bool          \n",
      " 31  heating_electric                       3571 non-null   bool          \n",
      " 32  heating_2units                         3571 non-null   bool          \n",
      " 33  heating_1unit                          3571 non-null   bool          \n",
      " 34  heating_heatpump                       3571 non-null   bool          \n",
      " 35  heating_zoned                          3571 non-null   bool          \n",
      " 36  heating_other                          3571 non-null   bool          \n",
      " 37  heating_floorfurnace                   3571 non-null   bool          \n",
      " 38  heating_solar                          3571 non-null   bool          \n",
      " 39  heating_propaneowned                   3571 non-null   bool          \n",
      " 40  heating_none                           3571 non-null   bool          \n",
      " 41  heating_windowunit                     3571 non-null   bool          \n",
      " 42  cooling_central                        3571 non-null   bool          \n",
      " 43  cooling_windowwall                     3571 non-null   bool          \n",
      " 44  cooling_heatpump                       3571 non-null   bool          \n",
      " 45  cooling_zoned                          3571 non-null   bool          \n",
      " 46  central_cooling_units                  3571 non-null   int64         \n",
      " 47  windowwall_cooling_units               3571 non-null   int64         \n",
      " 48  archstyle_traditional                  3571 non-null   bool          \n",
      " 49  archstyle_contemporary                 3571 non-null   bool          \n",
      " 50  archstyle_splitlevel                   3571 non-null   bool          \n",
      " 51  archstyle_ranch                        3571 non-null   bool          \n",
      " 52  archstyle_texashillcountry             3571 non-null   bool          \n",
      " 53  archstyle_craftsman                    3571 non-null   bool          \n",
      " 54  archstyle_other                        3571 non-null   bool          \n",
      " 55  archstyle_colonial                     3571 non-null   bool          \n",
      " 56  archstyle_spanish                      3571 non-null   bool          \n",
      " 57  archstyle_manufacturedhome-singlewide  3571 non-null   bool          \n",
      " 58  archstyle_a-frame                      3571 non-null   bool          \n",
      "dtypes: bool(39), datetime64[ns](1), float64(9), int64(6), object(4)\n",
      "memory usage: 850.9+ KB\n"
     ]
    }
   ],
   "source": [
    "sale_df.info()"
   ]
  },
  {
   "cell_type": "code",
   "execution_count": 4,
   "id": "d0c4b618",
   "metadata": {},
   "outputs": [],
   "source": [
    "target = 'newconstructionyn'"
   ]
  },
  {
   "cell_type": "code",
   "execution_count": 5,
   "id": "f7fb1fe0",
   "metadata": {},
   "outputs": [
    {
     "data": {
      "text/plain": [
       "False    0.899171\n",
       "True     0.100829\n",
       "Name: newconstructionyn, dtype: float64"
      ]
     },
     "execution_count": 5,
     "metadata": {},
     "output_type": "execute_result"
    }
   ],
   "source": [
    "rent_df[target].value_counts(normalize=True)"
   ]
  },
  {
   "cell_type": "code",
   "execution_count": 6,
   "id": "9bbd59c1",
   "metadata": {},
   "outputs": [
    {
     "data": {
      "text/plain": [
       "False    0.771213\n",
       "True     0.228787\n",
       "Name: newconstructionyn, dtype: float64"
      ]
     },
     "execution_count": 6,
     "metadata": {},
     "output_type": "execute_result"
    }
   ],
   "source": [
    "sale_df[target].value_counts(normalize=True)"
   ]
  },
  {
   "cell_type": "code",
   "execution_count": 7,
   "id": "6cb8e2c0",
   "metadata": {},
   "outputs": [
    {
     "data": {
      "image/png": "[encoded data removed]",
      "text/plain": [
       "<Figure size 432x288 with 1 Axes>"
      ]
     },
     "metadata": {
      "needs_background": "light"
     },
     "output_type": "display_data"
    }
   ],
   "source": [
    "sns.countplot(data=sale_df, x=target)\n",
    "plt.show()"
   ]
  },
  {
   "cell_type": "code",
   "execution_count": 8,
   "id": "6de24623",
   "metadata": {},
   "outputs": [
    {
     "data": {
      "image/png": "[encoded data removed]",
      "text/plain": [
       "<Figure size 432x288 with 1 Axes>"
      ]
     },
     "metadata": {
      "needs_background": "light"
     },
     "output_type": "display_data"
    }
   ],
   "source": [
    "sns.countplot(data=rent_df, x=target)\n",
    "plt.show()"
   ]
  },
  {
   "cell_type": "code",
   "execution_count": null,
   "id": "f641e989",
   "metadata": {},
   "outputs": [],
   "source": []
  }
 ],
 "metadata": {
  "kernelspec": {
   "display_name": "Python 3 (ipykernel)",
   "language": "python",
   "name": "python3"
  },
  "language_info": {
   "codemirror_mode": {
    "name": "ipython",
    "version": 3
   },
   "file_extension": ".py",
   "mimetype": "text/x-python",
   "name": "python",
   "nbconvert_exporter": "python",
   "pygments_lexer": "ipython3",
   "version": "3.9.7"
  }
 },
 "nbformat": 4,
 "nbformat_minor": 5
}
