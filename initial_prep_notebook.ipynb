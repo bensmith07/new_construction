{
 "cells": [
  {
   "cell_type": "code",
   "execution_count": 40,
   "id": "34c3c116",
   "metadata": {},
   "outputs": [],
   "source": [
    "import numpy as np\n",
    "import pandas as pd\n",
    "import matplotlib.pyplot as plt\n",
    "import seaborn as sns\n",
    "pd.set_option('max_columns', 100)\n",
    "pd.set_option('max_rows', 100)"
   ]
  },
  {
   "cell_type": "code",
   "execution_count": 2,
   "id": "5c37274c",
   "metadata": {},
   "outputs": [],
   "source": [
    "df = pd.read_csv('dataset_san_antonio.csv')"
   ]
  },
  {
   "cell_type": "code",
   "execution_count": 3,
   "id": "0d10647a",
   "metadata": {},
   "outputs": [
    {
     "data": {
      "text/html": [
       "<div>\n",
       "<style scoped>\n",
       "    .dataframe tbody tr th:only-of-type {\n",
       "        vertical-align: middle;\n",
       "    }\n",
       "\n",
       "    .dataframe tbody tr th {\n",
       "        vertical-align: top;\n",
       "    }\n",
       "\n",
       "    .dataframe thead th {\n",
       "        text-align: right;\n",
       "    }\n",
       "</style>\n",
       "<table border=\"1\" class=\"dataframe\">\n",
       "  <thead>\n",
       "    <tr style=\"text-align: right;\">\n",
       "      <th></th>\n",
       "      <th>address_id</th>\n",
       "      <th>city</th>\n",
       "      <th>postal_code</th>\n",
       "      <th>census_tract</th>\n",
       "      <th>standardstatus</th>\n",
       "      <th>mlsstatus</th>\n",
       "      <th>contractstatuschangedate</th>\n",
       "      <th>purchasecontractdate</th>\n",
       "      <th>closedate</th>\n",
       "      <th>listingcontractdate</th>\n",
       "      <th>daysonmarket</th>\n",
       "      <th>closeprice</th>\n",
       "      <th>listprice</th>\n",
       "      <th>originallistprice</th>\n",
       "      <th>propertytype</th>\n",
       "      <th>propertysubtype</th>\n",
       "      <th>lotsizearea</th>\n",
       "      <th>lotsizeunits</th>\n",
       "      <th>lotfeatures</th>\n",
       "      <th>totalactualrent</th>\n",
       "      <th>bedroomstotal</th>\n",
       "      <th>bathroomstotalinteger</th>\n",
       "      <th>bathroomsfull</th>\n",
       "      <th>bathroomshalf</th>\n",
       "      <th>livingarea</th>\n",
       "      <th>livingareaunits</th>\n",
       "      <th>garageyn</th>\n",
       "      <th>parkingfeatures</th>\n",
       "      <th>stories</th>\n",
       "      <th>yearbuilt</th>\n",
       "      <th>newconstructionyn</th>\n",
       "      <th>heating</th>\n",
       "      <th>cooling</th>\n",
       "      <th>architecturalstyle</th>\n",
       "    </tr>\n",
       "  </thead>\n",
       "  <tbody>\n",
       "    <tr>\n",
       "      <th>0</th>\n",
       "      <td>3529</td>\n",
       "      <td>San Antonio</td>\n",
       "      <td>78253.0</td>\n",
       "      <td>172005.0</td>\n",
       "      <td>Closed</td>\n",
       "      <td>Sold</td>\n",
       "      <td>2022-01-26</td>\n",
       "      <td>2021-12-23</td>\n",
       "      <td>2022-01-18</td>\n",
       "      <td>2021-12-09</td>\n",
       "      <td>25.0</td>\n",
       "      <td>272000.0</td>\n",
       "      <td>279900</td>\n",
       "      <td>279900.0</td>\n",
       "      <td>Residential</td>\n",
       "      <td>Single Family Detached</td>\n",
       "      <td>0.140</td>\n",
       "      <td>Acres</td>\n",
       "      <td>NaN</td>\n",
       "      <td>NaN</td>\n",
       "      <td>3.0</td>\n",
       "      <td>2.0</td>\n",
       "      <td>2.0</td>\n",
       "      <td>0.0</td>\n",
       "      <td>1418.0</td>\n",
       "      <td>Square Feet</td>\n",
       "      <td>1.0</td>\n",
       "      <td>Two Car Garage</td>\n",
       "      <td>1.0</td>\n",
       "      <td>2007.0</td>\n",
       "      <td>0.0</td>\n",
       "      <td>Central,Natural Gas</td>\n",
       "      <td>One Central</td>\n",
       "      <td>One Story</td>\n",
       "    </tr>\n",
       "    <tr>\n",
       "      <th>1</th>\n",
       "      <td>106247</td>\n",
       "      <td>San Antonio</td>\n",
       "      <td>78250.0</td>\n",
       "      <td>181731.0</td>\n",
       "      <td>Active</td>\n",
       "      <td>New</td>\n",
       "      <td>2022-07-01</td>\n",
       "      <td>NaN</td>\n",
       "      <td>NaN</td>\n",
       "      <td>2022-07-01</td>\n",
       "      <td>1.0</td>\n",
       "      <td>NaN</td>\n",
       "      <td>2850</td>\n",
       "      <td>2850.0</td>\n",
       "      <td>Residential Rental</td>\n",
       "      <td>Single Family Residence Detached</td>\n",
       "      <td>0.170</td>\n",
       "      <td>Acres</td>\n",
       "      <td>NaN</td>\n",
       "      <td>2850.0</td>\n",
       "      <td>4.0</td>\n",
       "      <td>3.0</td>\n",
       "      <td>2.0</td>\n",
       "      <td>1.0</td>\n",
       "      <td>3288.0</td>\n",
       "      <td>Square Feet</td>\n",
       "      <td>1.0</td>\n",
       "      <td>Two Car Garage,Attached</td>\n",
       "      <td>NaN</td>\n",
       "      <td>1997.0</td>\n",
       "      <td>0.0</td>\n",
       "      <td>Central,Electric</td>\n",
       "      <td>One Central</td>\n",
       "      <td>Two Story</td>\n",
       "    </tr>\n",
       "    <tr>\n",
       "      <th>2</th>\n",
       "      <td>217187</td>\n",
       "      <td>San Antonio</td>\n",
       "      <td>78251.0</td>\n",
       "      <td>171912.0</td>\n",
       "      <td>Closed</td>\n",
       "      <td>Sold</td>\n",
       "      <td>2022-01-27</td>\n",
       "      <td>2021-12-30</td>\n",
       "      <td>2022-01-25</td>\n",
       "      <td>2021-12-29</td>\n",
       "      <td>9.0</td>\n",
       "      <td>250300.0</td>\n",
       "      <td>249900</td>\n",
       "      <td>249900.0</td>\n",
       "      <td>Residential</td>\n",
       "      <td>Single Family Detached</td>\n",
       "      <td>0.140</td>\n",
       "      <td>Acres</td>\n",
       "      <td>NaN</td>\n",
       "      <td>NaN</td>\n",
       "      <td>3.0</td>\n",
       "      <td>2.0</td>\n",
       "      <td>2.0</td>\n",
       "      <td>0.0</td>\n",
       "      <td>1614.0</td>\n",
       "      <td>Square Feet</td>\n",
       "      <td>1.0</td>\n",
       "      <td>Two Car Garage,Attached</td>\n",
       "      <td>1.0</td>\n",
       "      <td>2006.0</td>\n",
       "      <td>0.0</td>\n",
       "      <td>Central,Electric</td>\n",
       "      <td>One Central</td>\n",
       "      <td>One Story,Traditional</td>\n",
       "    </tr>\n",
       "    <tr>\n",
       "      <th>3</th>\n",
       "      <td>241534</td>\n",
       "      <td>San Antonio</td>\n",
       "      <td>78253.0</td>\n",
       "      <td>172005.0</td>\n",
       "      <td>Closed</td>\n",
       "      <td>Sold</td>\n",
       "      <td>2022-01-31</td>\n",
       "      <td>2021-12-22</td>\n",
       "      <td>2022-01-21</td>\n",
       "      <td>2021-12-09</td>\n",
       "      <td>21.0</td>\n",
       "      <td>310000.0</td>\n",
       "      <td>310000</td>\n",
       "      <td>310000.0</td>\n",
       "      <td>Residential</td>\n",
       "      <td>Single Family Detached</td>\n",
       "      <td>0.119</td>\n",
       "      <td>Acres</td>\n",
       "      <td>Level</td>\n",
       "      <td>NaN</td>\n",
       "      <td>4.0</td>\n",
       "      <td>2.0</td>\n",
       "      <td>2.0</td>\n",
       "      <td>0.0</td>\n",
       "      <td>1732.0</td>\n",
       "      <td>Square Feet</td>\n",
       "      <td>1.0</td>\n",
       "      <td>Two Car Garage</td>\n",
       "      <td>1.0</td>\n",
       "      <td>2012.0</td>\n",
       "      <td>0.0</td>\n",
       "      <td>Central,Natural Gas</td>\n",
       "      <td>One Central</td>\n",
       "      <td>One Story,Traditional</td>\n",
       "    </tr>\n",
       "    <tr>\n",
       "      <th>4</th>\n",
       "      <td>267606</td>\n",
       "      <td>San Antonio</td>\n",
       "      <td>78254.0</td>\n",
       "      <td>181728.0</td>\n",
       "      <td>Closed</td>\n",
       "      <td>Sold</td>\n",
       "      <td>2021-07-29</td>\n",
       "      <td>2021-06-23</td>\n",
       "      <td>2021-07-28</td>\n",
       "      <td>2021-07-20</td>\n",
       "      <td>8.0</td>\n",
       "      <td>280000.0</td>\n",
       "      <td>268000</td>\n",
       "      <td>268000.0</td>\n",
       "      <td>Residential</td>\n",
       "      <td>Single Family Detached</td>\n",
       "      <td>0.110</td>\n",
       "      <td>Acres</td>\n",
       "      <td>NaN</td>\n",
       "      <td>NaN</td>\n",
       "      <td>4.0</td>\n",
       "      <td>3.0</td>\n",
       "      <td>2.0</td>\n",
       "      <td>1.0</td>\n",
       "      <td>2278.0</td>\n",
       "      <td>Square Feet</td>\n",
       "      <td>1.0</td>\n",
       "      <td>One Car Garage</td>\n",
       "      <td>2.0</td>\n",
       "      <td>2006.0</td>\n",
       "      <td>0.0</td>\n",
       "      <td>Central,Electric</td>\n",
       "      <td>One Central</td>\n",
       "      <td>Traditional</td>\n",
       "    </tr>\n",
       "  </tbody>\n",
       "</table>\n",
       "</div>"
      ],
      "text/plain": [
       "   address_id         city  postal_code  census_tract standardstatus  \\\n",
       "0        3529  San Antonio      78253.0      172005.0         Closed   \n",
       "1      106247  San Antonio      78250.0      181731.0         Active   \n",
       "2      217187  San Antonio      78251.0      171912.0         Closed   \n",
       "3      241534  San Antonio      78253.0      172005.0         Closed   \n",
       "4      267606  San Antonio      78254.0      181728.0         Closed   \n",
       "\n",
       "  mlsstatus contractstatuschangedate purchasecontractdate   closedate  \\\n",
       "0      Sold               2022-01-26           2021-12-23  2022-01-18   \n",
       "1       New               2022-07-01                  NaN         NaN   \n",
       "2      Sold               2022-01-27           2021-12-30  2022-01-25   \n",
       "3      Sold               2022-01-31           2021-12-22  2022-01-21   \n",
       "4      Sold               2021-07-29           2021-06-23  2021-07-28   \n",
       "\n",
       "  listingcontractdate  daysonmarket  closeprice  listprice  originallistprice  \\\n",
       "0          2021-12-09          25.0    272000.0     279900           279900.0   \n",
       "1          2022-07-01           1.0         NaN       2850             2850.0   \n",
       "2          2021-12-29           9.0    250300.0     249900           249900.0   \n",
       "3          2021-12-09          21.0    310000.0     310000           310000.0   \n",
       "4          2021-07-20           8.0    280000.0     268000           268000.0   \n",
       "\n",
       "         propertytype                   propertysubtype  lotsizearea  \\\n",
       "0         Residential            Single Family Detached        0.140   \n",
       "1  Residential Rental  Single Family Residence Detached        0.170   \n",
       "2         Residential            Single Family Detached        0.140   \n",
       "3         Residential            Single Family Detached        0.119   \n",
       "4         Residential            Single Family Detached        0.110   \n",
       "\n",
       "  lotsizeunits lotfeatures  totalactualrent  bedroomstotal  \\\n",
       "0        Acres         NaN              NaN            3.0   \n",
       "1        Acres         NaN           2850.0            4.0   \n",
       "2        Acres         NaN              NaN            3.0   \n",
       "3        Acres       Level              NaN            4.0   \n",
       "4        Acres         NaN              NaN            4.0   \n",
       "\n",
       "   bathroomstotalinteger  bathroomsfull  bathroomshalf  livingarea  \\\n",
       "0                    2.0            2.0            0.0      1418.0   \n",
       "1                    3.0            2.0            1.0      3288.0   \n",
       "2                    2.0            2.0            0.0      1614.0   \n",
       "3                    2.0            2.0            0.0      1732.0   \n",
       "4                    3.0            2.0            1.0      2278.0   \n",
       "\n",
       "  livingareaunits  garageyn          parkingfeatures  stories  yearbuilt  \\\n",
       "0     Square Feet       1.0           Two Car Garage      1.0     2007.0   \n",
       "1     Square Feet       1.0  Two Car Garage,Attached      NaN     1997.0   \n",
       "2     Square Feet       1.0  Two Car Garage,Attached      1.0     2006.0   \n",
       "3     Square Feet       1.0           Two Car Garage      1.0     2012.0   \n",
       "4     Square Feet       1.0           One Car Garage      2.0     2006.0   \n",
       "\n",
       "   newconstructionyn              heating      cooling     architecturalstyle  \n",
       "0                0.0  Central,Natural Gas  One Central              One Story  \n",
       "1                0.0     Central,Electric  One Central              Two Story  \n",
       "2                0.0     Central,Electric  One Central  One Story,Traditional  \n",
       "3                0.0  Central,Natural Gas  One Central  One Story,Traditional  \n",
       "4                0.0     Central,Electric  One Central            Traditional  "
      ]
     },
     "execution_count": 3,
     "metadata": {},
     "output_type": "execute_result"
    }
   ],
   "source": [
    "df.head()"
   ]
  },
  {
   "cell_type": "code",
   "execution_count": 4,
   "id": "7e88aa53",
   "metadata": {},
   "outputs": [
    {
     "name": "stdout",
     "output_type": "stream",
     "text": [
      "<class 'pandas.core.frame.DataFrame'>\n",
      "RangeIndex: 4780 entries, 0 to 4779\n",
      "Data columns (total 34 columns):\n",
      " #   Column                    Non-Null Count  Dtype  \n",
      "---  ------                    --------------  -----  \n",
      " 0   address_id                4780 non-null   int64  \n",
      " 1   city                      4778 non-null   object \n",
      " 2   postal_code               4778 non-null   float64\n",
      " 3   census_tract              4778 non-null   float64\n",
      " 4   standardstatus            4780 non-null   object \n",
      " 5   mlsstatus                 4780 non-null   object \n",
      " 6   contractstatuschangedate  4780 non-null   object \n",
      " 7   purchasecontractdate      3922 non-null   object \n",
      " 8   closedate                 3508 non-null   object \n",
      " 9   listingcontractdate       4780 non-null   object \n",
      " 10  daysonmarket              4779 non-null   float64\n",
      " 11  closeprice                3508 non-null   float64\n",
      " 12  listprice                 4780 non-null   int64  \n",
      " 13  originallistprice         4765 non-null   float64\n",
      " 14  propertytype              4780 non-null   object \n",
      " 15  propertysubtype           4779 non-null   object \n",
      " 16  lotsizearea               4675 non-null   float64\n",
      " 17  lotsizeunits              4612 non-null   object \n",
      " 18  lotfeatures               1243 non-null   object \n",
      " 19  totalactualrent           1182 non-null   float64\n",
      " 20  bedroomstotal             4764 non-null   float64\n",
      " 21  bathroomstotalinteger     4764 non-null   float64\n",
      " 22  bathroomsfull             4764 non-null   float64\n",
      " 23  bathroomshalf             4764 non-null   float64\n",
      " 24  livingarea                4733 non-null   float64\n",
      " 25  livingareaunits           4733 non-null   object \n",
      " 26  garageyn                  4727 non-null   float64\n",
      " 27  parkingfeatures           4764 non-null   object \n",
      " 28  stories                   3588 non-null   float64\n",
      " 29  yearbuilt                 4772 non-null   float64\n",
      " 30  newconstructionyn         4328 non-null   float64\n",
      " 31  heating                   4770 non-null   object \n",
      " 32  cooling                   4770 non-null   object \n",
      " 33  architecturalstyle        4760 non-null   object \n",
      "dtypes: float64(16), int64(2), object(16)\n",
      "memory usage: 1.2+ MB\n"
     ]
    }
   ],
   "source": [
    "df.info()"
   ]
  },
  {
   "cell_type": "code",
   "execution_count": 5,
   "id": "43c311b1",
   "metadata": {},
   "outputs": [
    {
     "data": {
      "text/plain": [
       "address_id                  4300\n",
       "city                           2\n",
       "postal_code                    5\n",
       "census_tract                  20\n",
       "standardstatus                 6\n",
       "mlsstatus                     14\n",
       "contractstatuschangedate     381\n",
       "purchasecontractdate         400\n",
       "closedate                    349\n",
       "listingcontractdate          395\n",
       "daysonmarket                 187\n",
       "closeprice                   989\n",
       "listprice                   1330\n",
       "originallistprice           1413\n",
       "propertytype                   5\n",
       "propertysubtype               17\n",
       "lotsizearea                   74\n",
       "lotsizeunits                   1\n",
       "lotfeatures                  148\n",
       "totalactualrent              180\n",
       "bedroomstotal                  6\n",
       "bathroomstotalinteger          7\n",
       "bathroomsfull                  5\n",
       "bathroomshalf                  5\n",
       "livingarea                  1508\n",
       "livingareaunits                1\n",
       "garageyn                       2\n",
       "parkingfeatures               54\n",
       "stories                        3\n",
       "yearbuilt                     50\n",
       "newconstructionyn              2\n",
       "heating                       53\n",
       "cooling                       20\n",
       "architecturalstyle            51\n",
       "dtype: int64"
      ]
     },
     "execution_count": 5,
     "metadata": {},
     "output_type": "execute_result"
    }
   ],
   "source": [
    "df.nunique()"
   ]
  },
  {
   "cell_type": "code",
   "execution_count": 6,
   "id": "43eb7153",
   "metadata": {},
   "outputs": [
    {
     "data": {
      "text/plain": [
       "address_id                     0\n",
       "city                           2\n",
       "postal_code                    2\n",
       "census_tract                   2\n",
       "standardstatus                 0\n",
       "mlsstatus                      0\n",
       "contractstatuschangedate       0\n",
       "purchasecontractdate         858\n",
       "closedate                   1272\n",
       "listingcontractdate            0\n",
       "daysonmarket                   1\n",
       "closeprice                  1272\n",
       "listprice                      0\n",
       "originallistprice             15\n",
       "propertytype                   0\n",
       "propertysubtype                1\n",
       "lotsizearea                  105\n",
       "lotsizeunits                 168\n",
       "lotfeatures                 3537\n",
       "totalactualrent             3598\n",
       "bedroomstotal                 16\n",
       "bathroomstotalinteger         16\n",
       "bathroomsfull                 16\n",
       "bathroomshalf                 16\n",
       "livingarea                    47\n",
       "livingareaunits               47\n",
       "garageyn                      53\n",
       "parkingfeatures               16\n",
       "stories                     1192\n",
       "yearbuilt                      8\n",
       "newconstructionyn            452\n",
       "heating                       10\n",
       "cooling                       10\n",
       "architecturalstyle            20\n",
       "dtype: int64"
      ]
     },
     "execution_count": 6,
     "metadata": {},
     "output_type": "execute_result"
    }
   ],
   "source": [
    "df.isna().sum()"
   ]
  },
  {
   "cell_type": "code",
   "execution_count": 7,
   "id": "c440a0e2",
   "metadata": {},
   "outputs": [],
   "source": [
    "target = 'newconstructionyn'"
   ]
  },
  {
   "cell_type": "code",
   "execution_count": 8,
   "id": "68f7f000",
   "metadata": {},
   "outputs": [
    {
     "data": {
      "text/plain": [
       "0.0    3429\n",
       "1.0     899\n",
       "Name: newconstructionyn, dtype: int64"
      ]
     },
     "execution_count": 8,
     "metadata": {},
     "output_type": "execute_result"
    }
   ],
   "source": [
    "df[target].value_counts()"
   ]
  },
  {
   "cell_type": "code",
   "execution_count": 9,
   "id": "cb3439d3",
   "metadata": {},
   "outputs": [
    {
     "data": {
      "text/plain": [
       "452"
      ]
     },
     "execution_count": 9,
     "metadata": {},
     "output_type": "execute_result"
    }
   ],
   "source": [
    "df[target].isna().sum()"
   ]
  },
  {
   "cell_type": "code",
   "execution_count": 10,
   "id": "071f2527",
   "metadata": {},
   "outputs": [],
   "source": [
    "# drop observations where the target value is null\n",
    "df = df[~df[target].isna()]"
   ]
  },
  {
   "cell_type": "code",
   "execution_count": 11,
   "id": "3e7716e6",
   "metadata": {},
   "outputs": [
    {
     "data": {
      "text/plain": [
       "0"
      ]
     },
     "execution_count": 11,
     "metadata": {},
     "output_type": "execute_result"
    }
   ],
   "source": [
    "df[target].isna().sum()"
   ]
  },
  {
   "cell_type": "code",
   "execution_count": 12,
   "id": "e7fea287",
   "metadata": {},
   "outputs": [],
   "source": [
    "# remove columns where there is only one unique value, \n",
    "# since such a feature cannot possibly help distinguish between target classes\n",
    "for col in df.columns:\n",
    "    if df[col].nunique() == 1:\n",
    "        df = df.drop(columns=[col])"
   ]
  },
  {
   "cell_type": "code",
   "execution_count": 13,
   "id": "4b6af8d7",
   "metadata": {},
   "outputs": [],
   "source": [
    "# additional columns which are not useful (because model would not be generalizable to other locations)\n",
    "# 'city', 'postal_code', 'census_tract', 'contractstatuschangedate', 'purchasecontractdate', 'closedate'\n",
    "\n",
    "# dropping these columns\n",
    "cols = ['city', 'postal_code', 'census_tract']\n",
    "df = df.drop(columns=cols)"
   ]
  },
  {
   "cell_type": "markdown",
   "id": "c87a2217",
   "metadata": {},
   "source": [
    "### Should I assume that the goal is to make a prediction at the time of listing, and therefore remove information that would only be relevant later in the listing cycle (i.e. status, daysonmarket, closeprice, listprice (as opposed to originallistprice)? "
   ]
  },
  {
   "cell_type": "code",
   "execution_count": 14,
   "id": "07226261",
   "metadata": {},
   "outputs": [],
   "source": [
    "# columns which are not relevant/available at the time of a new listing\n",
    "# 'standardstatus', 'mlsstatus', 'contractstatuschangedate', 'purchasecontractdate', 'closedate', 'daysonmarket', 'closeprice', 'listprice'\n",
    "\n",
    "# dropping these columns\n",
    "cols = ['standardstatus', \n",
    "        'mlsstatus', \n",
    "        'contractstatuschangedate', \n",
    "        'purchasecontractdate', \n",
    "        'closedate', \n",
    "        'daysonmarket', \n",
    "        'closeprice', \n",
    "        'listprice'\n",
    "       ]\n",
    "\n",
    "df = df.drop(columns=cols)"
   ]
  },
  {
   "cell_type": "code",
   "execution_count": 15,
   "id": "e88cfcdd",
   "metadata": {},
   "outputs": [
    {
     "data": {
      "text/html": [
       "<div>\n",
       "<style scoped>\n",
       "    .dataframe tbody tr th:only-of-type {\n",
       "        vertical-align: middle;\n",
       "    }\n",
       "\n",
       "    .dataframe tbody tr th {\n",
       "        vertical-align: top;\n",
       "    }\n",
       "\n",
       "    .dataframe thead th {\n",
       "        text-align: right;\n",
       "    }\n",
       "</style>\n",
       "<table border=\"1\" class=\"dataframe\">\n",
       "  <thead>\n",
       "    <tr style=\"text-align: right;\">\n",
       "      <th></th>\n",
       "      <th>address_id</th>\n",
       "      <th>listingcontractdate</th>\n",
       "      <th>originallistprice</th>\n",
       "      <th>propertytype</th>\n",
       "      <th>propertysubtype</th>\n",
       "      <th>lotsizearea</th>\n",
       "      <th>lotfeatures</th>\n",
       "      <th>totalactualrent</th>\n",
       "      <th>bedroomstotal</th>\n",
       "      <th>bathroomstotalinteger</th>\n",
       "      <th>bathroomsfull</th>\n",
       "      <th>bathroomshalf</th>\n",
       "      <th>livingarea</th>\n",
       "      <th>garageyn</th>\n",
       "      <th>parkingfeatures</th>\n",
       "      <th>stories</th>\n",
       "      <th>yearbuilt</th>\n",
       "      <th>newconstructionyn</th>\n",
       "      <th>heating</th>\n",
       "      <th>cooling</th>\n",
       "      <th>architecturalstyle</th>\n",
       "    </tr>\n",
       "  </thead>\n",
       "  <tbody>\n",
       "    <tr>\n",
       "      <th>0</th>\n",
       "      <td>3529</td>\n",
       "      <td>2021-12-09</td>\n",
       "      <td>279900.0</td>\n",
       "      <td>Residential</td>\n",
       "      <td>Single Family Detached</td>\n",
       "      <td>0.140</td>\n",
       "      <td>NaN</td>\n",
       "      <td>NaN</td>\n",
       "      <td>3.0</td>\n",
       "      <td>2.0</td>\n",
       "      <td>2.0</td>\n",
       "      <td>0.0</td>\n",
       "      <td>1418.0</td>\n",
       "      <td>1.0</td>\n",
       "      <td>Two Car Garage</td>\n",
       "      <td>1.0</td>\n",
       "      <td>2007.0</td>\n",
       "      <td>0.0</td>\n",
       "      <td>Central,Natural Gas</td>\n",
       "      <td>One Central</td>\n",
       "      <td>One Story</td>\n",
       "    </tr>\n",
       "    <tr>\n",
       "      <th>1</th>\n",
       "      <td>106247</td>\n",
       "      <td>2022-07-01</td>\n",
       "      <td>2850.0</td>\n",
       "      <td>Residential Rental</td>\n",
       "      <td>Single Family Residence Detached</td>\n",
       "      <td>0.170</td>\n",
       "      <td>NaN</td>\n",
       "      <td>2850.0</td>\n",
       "      <td>4.0</td>\n",
       "      <td>3.0</td>\n",
       "      <td>2.0</td>\n",
       "      <td>1.0</td>\n",
       "      <td>3288.0</td>\n",
       "      <td>1.0</td>\n",
       "      <td>Two Car Garage,Attached</td>\n",
       "      <td>NaN</td>\n",
       "      <td>1997.0</td>\n",
       "      <td>0.0</td>\n",
       "      <td>Central,Electric</td>\n",
       "      <td>One Central</td>\n",
       "      <td>Two Story</td>\n",
       "    </tr>\n",
       "    <tr>\n",
       "      <th>2</th>\n",
       "      <td>217187</td>\n",
       "      <td>2021-12-29</td>\n",
       "      <td>249900.0</td>\n",
       "      <td>Residential</td>\n",
       "      <td>Single Family Detached</td>\n",
       "      <td>0.140</td>\n",
       "      <td>NaN</td>\n",
       "      <td>NaN</td>\n",
       "      <td>3.0</td>\n",
       "      <td>2.0</td>\n",
       "      <td>2.0</td>\n",
       "      <td>0.0</td>\n",
       "      <td>1614.0</td>\n",
       "      <td>1.0</td>\n",
       "      <td>Two Car Garage,Attached</td>\n",
       "      <td>1.0</td>\n",
       "      <td>2006.0</td>\n",
       "      <td>0.0</td>\n",
       "      <td>Central,Electric</td>\n",
       "      <td>One Central</td>\n",
       "      <td>One Story,Traditional</td>\n",
       "    </tr>\n",
       "    <tr>\n",
       "      <th>3</th>\n",
       "      <td>241534</td>\n",
       "      <td>2021-12-09</td>\n",
       "      <td>310000.0</td>\n",
       "      <td>Residential</td>\n",
       "      <td>Single Family Detached</td>\n",
       "      <td>0.119</td>\n",
       "      <td>Level</td>\n",
       "      <td>NaN</td>\n",
       "      <td>4.0</td>\n",
       "      <td>2.0</td>\n",
       "      <td>2.0</td>\n",
       "      <td>0.0</td>\n",
       "      <td>1732.0</td>\n",
       "      <td>1.0</td>\n",
       "      <td>Two Car Garage</td>\n",
       "      <td>1.0</td>\n",
       "      <td>2012.0</td>\n",
       "      <td>0.0</td>\n",
       "      <td>Central,Natural Gas</td>\n",
       "      <td>One Central</td>\n",
       "      <td>One Story,Traditional</td>\n",
       "    </tr>\n",
       "    <tr>\n",
       "      <th>4</th>\n",
       "      <td>267606</td>\n",
       "      <td>2021-07-20</td>\n",
       "      <td>268000.0</td>\n",
       "      <td>Residential</td>\n",
       "      <td>Single Family Detached</td>\n",
       "      <td>0.110</td>\n",
       "      <td>NaN</td>\n",
       "      <td>NaN</td>\n",
       "      <td>4.0</td>\n",
       "      <td>3.0</td>\n",
       "      <td>2.0</td>\n",
       "      <td>1.0</td>\n",
       "      <td>2278.0</td>\n",
       "      <td>1.0</td>\n",
       "      <td>One Car Garage</td>\n",
       "      <td>2.0</td>\n",
       "      <td>2006.0</td>\n",
       "      <td>0.0</td>\n",
       "      <td>Central,Electric</td>\n",
       "      <td>One Central</td>\n",
       "      <td>Traditional</td>\n",
       "    </tr>\n",
       "  </tbody>\n",
       "</table>\n",
       "</div>"
      ],
      "text/plain": [
       "   address_id listingcontractdate  originallistprice        propertytype  \\\n",
       "0        3529          2021-12-09           279900.0         Residential   \n",
       "1      106247          2022-07-01             2850.0  Residential Rental   \n",
       "2      217187          2021-12-29           249900.0         Residential   \n",
       "3      241534          2021-12-09           310000.0         Residential   \n",
       "4      267606          2021-07-20           268000.0         Residential   \n",
       "\n",
       "                    propertysubtype  lotsizearea lotfeatures  totalactualrent  \\\n",
       "0            Single Family Detached        0.140         NaN              NaN   \n",
       "1  Single Family Residence Detached        0.170         NaN           2850.0   \n",
       "2            Single Family Detached        0.140         NaN              NaN   \n",
       "3            Single Family Detached        0.119       Level              NaN   \n",
       "4            Single Family Detached        0.110         NaN              NaN   \n",
       "\n",
       "   bedroomstotal  bathroomstotalinteger  bathroomsfull  bathroomshalf  \\\n",
       "0            3.0                    2.0            2.0            0.0   \n",
       "1            4.0                    3.0            2.0            1.0   \n",
       "2            3.0                    2.0            2.0            0.0   \n",
       "3            4.0                    2.0            2.0            0.0   \n",
       "4            4.0                    3.0            2.0            1.0   \n",
       "\n",
       "   livingarea  garageyn          parkingfeatures  stories  yearbuilt  \\\n",
       "0      1418.0       1.0           Two Car Garage      1.0     2007.0   \n",
       "1      3288.0       1.0  Two Car Garage,Attached      NaN     1997.0   \n",
       "2      1614.0       1.0  Two Car Garage,Attached      1.0     2006.0   \n",
       "3      1732.0       1.0           Two Car Garage      1.0     2012.0   \n",
       "4      2278.0       1.0           One Car Garage      2.0     2006.0   \n",
       "\n",
       "   newconstructionyn              heating      cooling     architecturalstyle  \n",
       "0                0.0  Central,Natural Gas  One Central              One Story  \n",
       "1                0.0     Central,Electric  One Central              Two Story  \n",
       "2                0.0     Central,Electric  One Central  One Story,Traditional  \n",
       "3                0.0  Central,Natural Gas  One Central  One Story,Traditional  \n",
       "4                0.0     Central,Electric  One Central            Traditional  "
      ]
     },
     "execution_count": 15,
     "metadata": {},
     "output_type": "execute_result"
    }
   ],
   "source": [
    "df.head()"
   ]
  },
  {
   "cell_type": "code",
   "execution_count": 16,
   "id": "94224a34",
   "metadata": {},
   "outputs": [
    {
     "data": {
      "text/plain": [
       "address_id                  0\n",
       "listingcontractdate         0\n",
       "originallistprice          15\n",
       "propertytype                0\n",
       "propertysubtype             1\n",
       "lotsizearea                92\n",
       "lotfeatures              3118\n",
       "totalactualrent          3595\n",
       "bedroomstotal               3\n",
       "bathroomstotalinteger       3\n",
       "bathroomsfull               3\n",
       "bathroomshalf               3\n",
       "livingarea                  9\n",
       "garageyn                   37\n",
       "parkingfeatures             3\n",
       "stories                   740\n",
       "yearbuilt                   1\n",
       "newconstructionyn           0\n",
       "heating                     0\n",
       "cooling                     0\n",
       "architecturalstyle          7\n",
       "dtype: int64"
      ]
     },
     "execution_count": 16,
     "metadata": {},
     "output_type": "execute_result"
    }
   ],
   "source": [
    "df.isna().sum()"
   ]
  },
  {
   "cell_type": "markdown",
   "id": "724d1d77",
   "metadata": {},
   "source": [
    "### Handling Null Values"
   ]
  },
  {
   "cell_type": "code",
   "execution_count": 17,
   "id": "11b4ef09",
   "metadata": {},
   "outputs": [],
   "source": [
    "cols_to_drop = ['lotfeatures']\n",
    "cols_to_drop_rows = ['originallistprice']\n",
    "cols_to_impute_mode = ['propertysubtype']\n",
    "cols_to_impute_median = ['lotsizearea']"
   ]
  },
  {
   "cell_type": "markdown",
   "id": "68c0e68a",
   "metadata": {},
   "source": [
    "#### originallistprice"
   ]
  },
  {
   "cell_type": "markdown",
   "id": "db780b7e",
   "metadata": {},
   "source": [
    "since differences in price between new construction and existing homes is one of the primary reasons for investigating new construction, it would seem reckless to attempt to impute a value for originallistprice here. I will drop observations where this column is null."
   ]
  },
  {
   "cell_type": "markdown",
   "id": "641c0720",
   "metadata": {},
   "source": [
    "#### propertysubtype"
   ]
  },
  {
   "cell_type": "code",
   "execution_count": 18,
   "id": "a5b462bf",
   "metadata": {},
   "outputs": [
    {
     "data": {
      "text/plain": [
       "0.0002310536044362292"
      ]
     },
     "execution_count": 18,
     "metadata": {},
     "output_type": "execute_result"
    }
   ],
   "source": [
    "df.propertysubtype.isna().mean()"
   ]
  },
  {
   "cell_type": "code",
   "execution_count": 19,
   "id": "cd0505a6",
   "metadata": {},
   "outputs": [
    {
     "data": {
      "text/plain": [
       "Single Family Detached              3582\n",
       "Single Family Residence Detached     718\n",
       "Duplex                                12\n",
       "Townhouse                              6\n",
       "Low-Rise (1-3 Stories)                 3\n",
       "One Story,Apartment                    2\n",
       "Two Story,Apartment                    1\n",
       "1st Seller Financing                   1\n",
       "Condominium                            1\n",
       "Manufactured Home                      1\n",
       "Name: propertysubtype, dtype: int64"
      ]
     },
     "execution_count": 19,
     "metadata": {},
     "output_type": "execute_result"
    }
   ],
   "source": [
    "df.propertysubtype.value_counts()"
   ]
  },
  {
   "cell_type": "markdown",
   "id": "60217ba0",
   "metadata": {},
   "source": [
    "First, it seems that \"Single Family Detached\" and \"Single Family Residence Detached\" are likely to have the same meaning, so let's combine them to one value "
   ]
  },
  {
   "cell_type": "code",
   "execution_count": 20,
   "id": "7bb18f69",
   "metadata": {},
   "outputs": [],
   "source": [
    "df['propertysubtype'] = np.where(df.propertysubtype == 'Single Family Residence Detached', \n",
    "                                 'Single Family Detached', df.propertysubtype\n",
    "                                )"
   ]
  },
  {
   "cell_type": "code",
   "execution_count": 21,
   "id": "545a9ac6",
   "metadata": {},
   "outputs": [
    {
     "data": {
      "text/plain": [
       "Single Family Detached    0.993760\n",
       "Duplex                    0.002773\n",
       "Townhouse                 0.001387\n",
       "Low-Rise (1-3 Stories)    0.000693\n",
       "One Story,Apartment       0.000462\n",
       "Two Story,Apartment       0.000231\n",
       "1st Seller Financing      0.000231\n",
       "Condominium               0.000231\n",
       "Manufactured Home         0.000231\n",
       "Name: propertysubtype, dtype: float64"
      ]
     },
     "execution_count": 21,
     "metadata": {},
     "output_type": "execute_result"
    }
   ],
   "source": [
    "df.propertysubtype.value_counts(normalize=True)"
   ]
  },
  {
   "cell_type": "markdown",
   "id": "60459433",
   "metadata": {},
   "source": [
    "With such a high percentage of observations falling into the 'Single Family Detached' category, it would seem appropriate to impute the mode for this feature."
   ]
  },
  {
   "cell_type": "markdown",
   "id": "42e9dec9",
   "metadata": {},
   "source": [
    "#### lotsizearea"
   ]
  },
  {
   "cell_type": "code",
   "execution_count": 28,
   "id": "d73807be",
   "metadata": {},
   "outputs": [
    {
     "data": {
      "text/plain": [
       "count    4236.000000\n",
       "mean        0.178604\n",
       "std         1.188964\n",
       "min        -0.250000\n",
       "25%         0.119000\n",
       "50%         0.140000\n",
       "75%         0.160000\n",
       "max        61.149000\n",
       "Name: lotsizearea, dtype: float64"
      ]
     },
     "execution_count": 28,
     "metadata": {},
     "output_type": "execute_result"
    }
   ],
   "source": [
    "df.lotsizearea.describe()"
   ]
  },
  {
   "cell_type": "code",
   "execution_count": 29,
   "id": "fb85167f",
   "metadata": {},
   "outputs": [
    {
     "data": {
      "text/plain": [
       "<AxesSubplot:ylabel='Frequency'>"
      ]
     },
     "execution_count": 29,
     "metadata": {},
     "output_type": "execute_result"
    },
    {
     "data": {
      "image/png": "[encoded data removed]",
      "text/plain": [
       "<Figure size 432x288 with 1 Axes>"
      ]
     },
     "metadata": {
      "needs_background": "light"
     },
     "output_type": "display_data"
    }
   ],
   "source": [
    "df.lotsizearea.plot.hist()"
   ]
  },
  {
   "cell_type": "code",
   "execution_count": 30,
   "id": "ec835fb5",
   "metadata": {},
   "outputs": [
    {
     "data": {
      "text/plain": [
       "<AxesSubplot:>"
      ]
     },
     "execution_count": 30,
     "metadata": {},
     "output_type": "execute_result"
    },
    {
     "data": {
      "image/png": "[encoded data removed]",
      "text/plain": [
       "<Figure size 432x288 with 1 Axes>"
      ]
     },
     "metadata": {
      "needs_background": "light"
     },
     "output_type": "display_data"
    }
   ],
   "source": [
    "df.lotsizearea.plot.box()"
   ]
  },
  {
   "cell_type": "markdown",
   "id": "42d88365",
   "metadata": {},
   "source": [
    "With such a highly skewed, distribution, the median seems like the best representative value, so we will impute the median for this feature. "
   ]
  },
  {
   "cell_type": "markdown",
   "id": "388e35c1",
   "metadata": {},
   "source": [
    "#### lotfeatures"
   ]
  },
  {
   "cell_type": "code",
   "execution_count": 45,
   "id": "0d5d7261",
   "metadata": {},
   "outputs": [
    {
     "data": {
      "text/plain": [
       "0.7204251386321626"
      ]
     },
     "execution_count": 45,
     "metadata": {},
     "output_type": "execute_result"
    }
   ],
   "source": [
    "df.lotfeatures.isna().mean()"
   ]
  },
  {
   "cell_type": "code",
   "execution_count": 46,
   "id": "05598de2",
   "metadata": {
    "scrolled": false
   },
   "outputs": [
    {
     "data": {
      "text/plain": [
       "143"
      ]
     },
     "execution_count": 46,
     "metadata": {},
     "output_type": "execute_result"
    }
   ],
   "source": [
    "df.lotfeatures.nunique()"
   ]
  },
  {
   "cell_type": "markdown",
   "id": "30412035",
   "metadata": {},
   "source": [
    "With no reasonable way to impute values for this feature, and with such a high percentage of nulls, we will drop this column. "
   ]
  },
  {
   "cell_type": "code",
   "execution_count": null,
   "id": "e63f2913",
   "metadata": {},
   "outputs": [],
   "source": []
  }
 ],
 "metadata": {
  "kernelspec": {
   "display_name": "Python 3 (ipykernel)",
   "language": "python",
   "name": "python3"
  },
  "language_info": {
   "codemirror_mode": {
    "name": "ipython",
    "version": 3
   },
   "file_extension": ".py",
   "mimetype": "text/x-python",
   "name": "python",
   "nbconvert_exporter": "python",
   "pygments_lexer": "ipython3",
   "version": "3.9.7"
  }
 },
 "nbformat": 4,
 "nbformat_minor": 5
}
